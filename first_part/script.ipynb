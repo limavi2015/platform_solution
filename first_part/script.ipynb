{
 "cells": [
  {
   "cell_type": "markdown",
   "id": "7aff6fce",
   "metadata": {},
   "source": [
    "## Initial Data\n",
    "\n"
   ]
  },
  {
   "cell_type": "code",
   "execution_count": 1,
   "id": "9d97fce8",
   "metadata": {
    "scrolled": true
   },
   "outputs": [
    {
     "name": "stderr",
     "output_type": "stream",
     "text": [
      "/Library/Frameworks/Python.framework/Versions/3.6/lib/python3.6/site-packages/pyspark/context.py:238: FutureWarning: Python 3.6 support is deprecated in Spark 3.2.\n",
      "  FutureWarning\n"
     ]
    },
    {
     "name": "stdout",
     "output_type": "stream",
     "text": [
      "+--------------------+--------------------+------------------+--------+-----------+----------+\n",
      "|           timestamp|             user_id|             event|flyer_id|merchant_id|      date|\n",
      "+--------------------+--------------------+------------------+--------+-----------+----------+\n",
      "|2018-10-01T13:54:...|9ea672779feb1e088...|shopping_list_open|    null|       null|2018-10-01|\n",
      "|2018-10-01T13:34:...|01ca5536abc5e0992...|shopping_list_open|    null|       null|2018-10-01|\n",
      "|2018-10-01T13:56:...|1c1231e7a41a1bee1...|        flyer_open| 2016315|       2268|2018-10-01|\n",
      "|2018-10-01T13:36:...|b38f97880ccb69e8f...|shopping_list_open|    null|       null|2018-10-01|\n",
      "|2018-10-01T13:56:...|b38f97880ccb69e8f...|shopping_list_open|    null|       null|2018-10-01|\n",
      "|2018-10-01T13:36:...|9ea672779feb1e088...|shopping_list_open|    null|       null|2018-10-01|\n",
      "|2018-10-01T13:34:...|7c3e5dadd6c0d7170...|        flyer_open| 1993325|       2188|2018-10-01|\n",
      "|2018-10-01T13:31:...|9ea672779feb1e088...|        flyer_open| 2002542|       3383|2018-10-01|\n",
      "|2018-10-01T13:39:...|4997a2ca5d6f3a8e2...|        flyer_open| 2031695|       2148|2018-10-01|\n",
      "|2018-10-01T13:31:...|71e01a216fd6d973c...|        flyer_open| 1996644|       2694|2018-10-01|\n",
      "|2018-10-01T13:48:...|47f274f2b69e28c39...|shopping_list_open|    null|       null|2018-10-01|\n",
      "|2018-10-01T13:31:...|87c2f342e40511b1e...|        flyer_open| 1994962|        221|2018-10-01|\n",
      "|2018-10-01T13:31:...|620107fa88c4888f3...|shopping_list_open|    null|       null|2018-10-01|\n",
      "|2018-10-01T13:48:...|b38f97880ccb69e8f...|        flyer_open| 1994508|        986|2018-10-01|\n",
      "|2018-10-01T13:40:...|b38f97880ccb69e8f...|        flyer_open| 1985422|       2516|2018-10-01|\n",
      "|2018-10-01T13:31:...|71e01a216fd6d973c...|        flyer_open| 2000528|       2598|2018-10-01|\n",
      "|2018-10-01T13:31:...|89449f6296fecb861...|        flyer_open| 1994963|        221|2018-10-01|\n",
      "|2018-10-01T13:56:...|1c1231e7a41a1bee1...|shopping_list_open|    null|       null|2018-10-01|\n",
      "|2018-10-01T13:32:...|89449f6296fecb861...|        flyer_open| 1994508|        986|2018-10-01|\n",
      "|2018-10-01T13:33:...|b38f97880ccb69e8f...|        flyer_open| 2022480|        246|2018-10-01|\n",
      "+--------------------+--------------------+------------------+--------+-----------+----------+\n",
      "only showing top 20 rows\n",
      "\n"
     ]
    }
   ],
   "source": [
    "import pyspark\n",
    "from pyspark.sql import SparkSession\n",
    "from IPython.display import display, HTML\n",
    "\n",
    "spark = SparkSession.builder.master(\"local[*]\") \\\n",
    "                    .appName('SparkByExamples.com') \\\n",
    "                    .getOrCreate()\n",
    "\n",
    "df = spark.read.option(\"header\",True).csv('/Users/liliana.manjarres/Documents/Sr_DE_Takehome/dataset.csv')\n",
    "df.createOrReplaceTempView(\"events_tmp\")\n",
    "df2 = spark.sql(\"select *, to_date(timestamp) as date from events_tmp\")\n",
    "df2.createOrReplaceTempView(\"events\")\n",
    "df2.show()"
   ]
  },
  {
   "cell_type": "markdown",
   "id": "90cfe79b",
   "metadata": {},
   "source": [
    "## Exploring data\n",
    "\n"
   ]
  },
  {
   "cell_type": "code",
   "execution_count": 2,
   "id": "3bd06add",
   "metadata": {
    "scrolled": true
   },
   "outputs": [
    {
     "name": "stdout",
     "output_type": "stream",
     "text": [
      "+-----------------------+\n",
      "|count(DISTINCT user_id)|\n",
      "+-----------------------+\n",
      "|                   1190|\n",
      "+-----------------------+\n",
      "\n",
      "+---------------------+\n",
      "|count(DISTINCT event)|\n",
      "+---------------------+\n",
      "|                    5|\n",
      "+---------------------+\n",
      "\n",
      "+------------------------+\n",
      "|count(DISTINCT flyer_id)|\n",
      "+------------------------+\n",
      "|                    1659|\n",
      "+------------------------+\n",
      "\n",
      "+---------------------------+\n",
      "|count(DISTINCT merchant_id)|\n",
      "+---------------------------+\n",
      "|                        523|\n",
      "+---------------------------+\n",
      "\n",
      "+------------------+-----+\n",
      "|             event|total|\n",
      "+------------------+-----+\n",
      "|          favorite|  257|\n",
      "|shopping_list_open| 3100|\n",
      "|        flyer_open|14956|\n",
      "|       list_flyers|  855|\n",
      "|         item_open| 1555|\n",
      "+------------------+-----+\n",
      "\n"
     ]
    }
   ],
   "source": [
    "from pyspark.sql.functions import count\n",
    "from pyspark.sql.functions import countDistinct\n",
    "df.select(countDistinct(df.user_id)).show()\n",
    "df.select(countDistinct(df.event)).show()\n",
    "df.select(countDistinct(df.flyer_id)).show()\n",
    "df.select(countDistinct(df.merchant_id)).show()\n",
    "spark.sql(\"select event, count(1) as total from events group by event\").show()"
   ]
  },
  {
   "cell_type": "markdown",
   "id": "76ec2571",
   "metadata": {},
   "source": [
    "## Total of open_flyers events by date, merchant (pyspark)\n",
    "\n"
   ]
  },
  {
   "cell_type": "code",
   "execution_count": 7,
   "id": "f75ad3cf",
   "metadata": {},
   "outputs": [
    {
     "data": {
      "text/html": [
       "<div>\n",
       "<style scoped>\n",
       "    .dataframe tbody tr th:only-of-type {\n",
       "        vertical-align: middle;\n",
       "    }\n",
       "\n",
       "    .dataframe tbody tr th {\n",
       "        vertical-align: top;\n",
       "    }\n",
       "\n",
       "    .dataframe thead th {\n",
       "        text-align: right;\n",
       "    }\n",
       "</style>\n",
       "<table border=\"1\" class=\"dataframe\">\n",
       "  <thead>\n",
       "    <tr style=\"text-align: right;\">\n",
       "      <th></th>\n",
       "      <th>date</th>\n",
       "      <th>merchant_id</th>\n",
       "      <th>total_flyer_open</th>\n",
       "    </tr>\n",
       "  </thead>\n",
       "  <tbody>\n",
       "    <tr>\n",
       "      <th>0</th>\n",
       "      <td>2018-10-01</td>\n",
       "      <td>246</td>\n",
       "      <td>785</td>\n",
       "    </tr>\n",
       "    <tr>\n",
       "      <th>1</th>\n",
       "      <td>2018-10-01</td>\n",
       "      <td>2345</td>\n",
       "      <td>690</td>\n",
       "    </tr>\n",
       "    <tr>\n",
       "      <th>2</th>\n",
       "      <td>2018-10-01</td>\n",
       "      <td>2268</td>\n",
       "      <td>639</td>\n",
       "    </tr>\n",
       "    <tr>\n",
       "      <th>3</th>\n",
       "      <td>2018-10-01</td>\n",
       "      <td>2609</td>\n",
       "      <td>583</td>\n",
       "    </tr>\n",
       "    <tr>\n",
       "      <th>4</th>\n",
       "      <td>2018-10-01</td>\n",
       "      <td>2280</td>\n",
       "      <td>493</td>\n",
       "    </tr>\n",
       "    <tr>\n",
       "      <th>...</th>\n",
       "      <td>...</td>\n",
       "      <td>...</td>\n",
       "      <td>...</td>\n",
       "    </tr>\n",
       "    <tr>\n",
       "      <th>512</th>\n",
       "      <td>2018-10-01</td>\n",
       "      <td>2651</td>\n",
       "      <td>1</td>\n",
       "    </tr>\n",
       "    <tr>\n",
       "      <th>513</th>\n",
       "      <td>2018-10-01</td>\n",
       "      <td>2985</td>\n",
       "      <td>1</td>\n",
       "    </tr>\n",
       "    <tr>\n",
       "      <th>514</th>\n",
       "      <td>2018-10-01</td>\n",
       "      <td>3316</td>\n",
       "      <td>1</td>\n",
       "    </tr>\n",
       "    <tr>\n",
       "      <th>515</th>\n",
       "      <td>2018-10-01</td>\n",
       "      <td>3522</td>\n",
       "      <td>1</td>\n",
       "    </tr>\n",
       "    <tr>\n",
       "      <th>516</th>\n",
       "      <td>2018-10-01</td>\n",
       "      <td>3664</td>\n",
       "      <td>1</td>\n",
       "    </tr>\n",
       "  </tbody>\n",
       "</table>\n",
       "<p>517 rows × 3 columns</p>\n",
       "</div>"
      ],
      "text/plain": [
       "           date merchant_id  total_flyer_open\n",
       "0    2018-10-01         246               785\n",
       "1    2018-10-01        2345               690\n",
       "2    2018-10-01        2268               639\n",
       "3    2018-10-01        2609               583\n",
       "4    2018-10-01        2280               493\n",
       "..          ...         ...               ...\n",
       "512  2018-10-01        2651                 1\n",
       "513  2018-10-01        2985                 1\n",
       "514  2018-10-01        3316                 1\n",
       "515  2018-10-01        3522                 1\n",
       "516  2018-10-01        3664                 1\n",
       "\n",
       "[517 rows x 3 columns]"
      ]
     },
     "metadata": {},
     "output_type": "display_data"
    }
   ],
   "source": [
    "result_df = spark.sql(\"select date, merchant_id, count(1) as total_flyer_open\\\n",
    "           from events \\\n",
    "           where event == 'flyer_open'\\\n",
    "           group by date, merchant_id \\\n",
    "           order by total_flyer_open desc\")\n",
    "result_df_pd = result_df.toPandas()\n",
    "display(result_df_pd)"
   ]
  },
  {
   "cell_type": "code",
   "execution_count": 8,
   "id": "90d7c58c",
   "metadata": {},
   "outputs": [
    {
     "data": {
      "image/png": "[encoded data removed]",
      "text/plain": [
       "<Figure size 1440x720 with 1 Axes>"
      ]
     },
     "metadata": {
      "needs_background": "light"
     },
     "output_type": "display_data"
    }
   ],
   "source": [
    "import matplotlib.pyplot as plt\n",
    "result_df_pd.head(30).plot(x=\"merchant_id\", y=[\"total_flyer_open\"], kind=\"bar\",figsize=(20,10));\n"
   ]
  },
  {
   "cell_type": "markdown",
   "id": "0fb84aea",
   "metadata": {},
   "source": [
    "## Total of open_flyers events by merchant (generator)\n",
    "\n"
   ]
  },
  {
   "cell_type": "code",
   "execution_count": 9,
   "id": "f936a70b",
   "metadata": {},
   "outputs": [
    {
     "data": {
      "text/html": [
       "<div>\n",
       "<style scoped>\n",
       "    .dataframe tbody tr th:only-of-type {\n",
       "        vertical-align: middle;\n",
       "    }\n",
       "\n",
       "    .dataframe tbody tr th {\n",
       "        vertical-align: top;\n",
       "    }\n",
       "\n",
       "    .dataframe thead th {\n",
       "        text-align: right;\n",
       "    }\n",
       "</style>\n",
       "<table border=\"1\" class=\"dataframe\">\n",
       "  <thead>\n",
       "    <tr style=\"text-align: right;\">\n",
       "      <th></th>\n",
       "      <th>merchant_id</th>\n",
       "      <th>total_flyer_open</th>\n",
       "    </tr>\n",
       "  </thead>\n",
       "  <tbody>\n",
       "    <tr>\n",
       "      <th>494</th>\n",
       "      <td>246</td>\n",
       "      <td>785</td>\n",
       "    </tr>\n",
       "    <tr>\n",
       "      <th>506</th>\n",
       "      <td>2345</td>\n",
       "      <td>690</td>\n",
       "    </tr>\n",
       "    <tr>\n",
       "      <th>515</th>\n",
       "      <td>2268</td>\n",
       "      <td>639</td>\n",
       "    </tr>\n",
       "    <tr>\n",
       "      <th>510</th>\n",
       "      <td>2609</td>\n",
       "      <td>583</td>\n",
       "    </tr>\n",
       "    <tr>\n",
       "      <th>511</th>\n",
       "      <td>2280</td>\n",
       "      <td>493</td>\n",
       "    </tr>\n",
       "    <tr>\n",
       "      <th>...</th>\n",
       "      <td>...</td>\n",
       "      <td>...</td>\n",
       "    </tr>\n",
       "    <tr>\n",
       "      <th>321</th>\n",
       "      <td>3625</td>\n",
       "      <td>1</td>\n",
       "    </tr>\n",
       "    <tr>\n",
       "      <th>320</th>\n",
       "      <td>2593</td>\n",
       "      <td>1</td>\n",
       "    </tr>\n",
       "    <tr>\n",
       "      <th>92</th>\n",
       "      <td>3001</td>\n",
       "      <td>1</td>\n",
       "    </tr>\n",
       "    <tr>\n",
       "      <th>299</th>\n",
       "      <td>2806</td>\n",
       "      <td>1</td>\n",
       "    </tr>\n",
       "    <tr>\n",
       "      <th>0</th>\n",
       "      <td>2838</td>\n",
       "      <td>1</td>\n",
       "    </tr>\n",
       "  </tbody>\n",
       "</table>\n",
       "<p>517 rows × 2 columns</p>\n",
       "</div>"
      ],
      "text/plain": [
       "    merchant_id  total_flyer_open\n",
       "494         246               785\n",
       "506        2345               690\n",
       "515        2268               639\n",
       "510        2609               583\n",
       "511        2280               493\n",
       "..          ...               ...\n",
       "321        3625                 1\n",
       "320        2593                 1\n",
       "92         3001                 1\n",
       "299        2806                 1\n",
       "0          2838                 1\n",
       "\n",
       "[517 rows x 2 columns]"
      ]
     },
     "metadata": {},
     "output_type": "display_data"
    }
   ],
   "source": [
    "#Second option using Generators\n",
    "\n",
    "import csv\n",
    "import pandas as pd\n",
    "\n",
    "def read_csv_from_generator_fn():\n",
    "    with open('/Users/liliana.manjarres/Documents/Sr_DE_Takehome/dataset.csv', 'r') as f:\n",
    "        reader = csv.reader(f)\n",
    "        for row in reader:\n",
    "            yield row\n",
    "\n",
    "open_flyers_by_merchant =[]\n",
    "\n",
    "for row in read_csv_from_generator_fn():\n",
    "    if row[2]=='flyer_open':\n",
    "        merchat=row[4]\n",
    "        filtered = list(filter(lambda item: item['merchant_id'] == merchat, open_flyers_by_merchant))\n",
    "        if (len(filtered)==0):   \n",
    "            open_flyers_by_merchant.append({\n",
    "              \"merchant_id\": merchat,\n",
    "              \"total_flyer_open\": 1\n",
    "            })\n",
    "        else:\n",
    "            total = filtered[0]['total_flyer_open']\n",
    "            tmp_list = list(filter(lambda item: item['merchant_id'] != merchat, open_flyers_by_merchant))\n",
    "            tmp_list.append({\n",
    "              \"merchant_id\": merchat,\n",
    "              \"total_flyer_open\": total + 1\n",
    "            })\n",
    "            open_flyers_by_merchant=tmp_list\n",
    "\n",
    "            \n",
    "result_df_generator = pd.DataFrame(open_flyers_by_merchant).sort_values(by=['total_flyer_open'], ascending=False)\n",
    "display(result_df_generator)"
   ]
  },
  {
   "cell_type": "code",
   "execution_count": 10,
   "id": "c7127563",
   "metadata": {},
   "outputs": [
    {
     "data": {
      "image/png": "[encoded data removed]",
      "text/plain": [
       "<Figure size 1440x720 with 1 Axes>"
      ]
     },
     "metadata": {
      "needs_background": "light"
     },
     "output_type": "display_data"
    }
   ],
   "source": [
    "import matplotlib.pyplot as plt\n",
    "result_df_generator.head(30).plot(x=\"merchant_id\", y=[\"total_flyer_open\"], kind=\"bar\",figsize=(20,10));\n"
   ]
  }
 ],
 "metadata": {
  "celltoolbar": "Raw Cell Format",
  "kernelspec": {
   "display_name": "Python 3",
   "language": "python",
   "name": "python3"
  },
  "language_info": {
   "codemirror_mode": {
    "name": "ipython",
    "version": 3
   },
   "file_extension": ".py",
   "mimetype": "text/x-python",
   "name": "python",
   "nbconvert_exporter": "python",
   "pygments_lexer": "ipython3",
   "version": "3.6.8"
  }
 },
 "nbformat": 4,
 "nbformat_minor": 5
}
